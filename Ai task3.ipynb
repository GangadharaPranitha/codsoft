{
  "nbformat": 4,
  "nbformat_minor": 0,
  "metadata": {
    "colab": {
      "provenance": [],
      "authorship_tag": "ABX9TyNh/SHeBdoNLWbReW7y65cZ",
      "include_colab_link": true
    },
    "kernelspec": {
      "name": "python3",
      "display_name": "Python 3"
    },
    "language_info": {
      "name": "python"
    }
  },
  "cells": [
    {
      "cell_type": "markdown",
      "metadata": {
        "id": "view-in-github",
        "colab_type": "text"
      },
      "source": [
        "<a href=\"https://colab.research.google.com/github/GangadharaPranitha/codsoft/blob/main/Ai%20task3.ipynb\" target=\"_parent\"><img src=\"https://colab.research.google.com/assets/colab-badge.svg\" alt=\"Open In Colab\"/></a>"
      ]
    },
    {
      "cell_type": "markdown",
      "source": [
        "\\\n",
        "# **Codsoft AI Internship - Sep-Oct 2023**\n",
        "\n",
        "\n",
        "# Task 3: Building a Content-Based Movie Recommendation System\n",
        "**Description**: This project involves creating a content-based movie recommendation system. The system utilizes natural language processing and machine learning techniques to recommend movies to users based on their preferences. Unlike collaborative filtering, which relies on user-item interactions, content-based filtering leverages movie features such as genres, language, popularity, runtime, votes, and vote counts to make person\n",
        "Codsoft AI Internship - Sep-Oct 2023\n",
        "Task 3: Building a Content-Based Movie Recommendation System\n",
        "Description: This project involves creating a content-based movie recommendation system. The system utilizes natural language processing and machine learning techniques to recommend movies to users based on their preferences. Unlike collaborative filtering, which relies on user-item interactions, content-based filtering leverages movie features such as genres, language, popularity, runtime, votes, and vote counts to make personalized recommendations."
      ],
      "metadata": {
        "id": "G7hIrADiqg8E"
      }
    },
    {
      "cell_type": "code",
      "source": [
        "# Import necessary libraries\n",
        "import pandas as pd\n",
        "from sklearn.feature_extraction.text import TfidfVectorizer\n",
        "from sklearn.metrics.pairwise import cosine_similarity\n",
        "\n",
        "\n",
        "# Load the dataset\n",
        "df = pd.read_csv('https://raw.githubusercontent.com/YBI-Foundation/Dataset/main/Movies%20Recommendation.csv')\n",
        "\n",
        "# Features for content-based filtering\n",
        "features = ['Movie_Genre', 'Movie_Language', 'Movie_Popularity', 'Movie_Runtime', 'Movie_Vote', 'Movie_Vote_Count']\n",
        "\n",
        "# Fill NaN values with empty strings or zeros for numerical columns\n",
        "df[features] = df[features].fillna('')  # For categorical features\n",
        "df['Movie_Vote_Count'] = df['Movie_Vote_Count'].fillna(0)  # For numerical features"
      ],
      "metadata": {
        "id": "_nv6aHhdqkYq"
      },
      "execution_count": 1,
      "outputs": []
    },
    {
      "cell_type": "code",
      "source": [
        "# Combine features into a single column\n",
        "df['combined_features'] = df.apply(lambda row: ' '.join([str(row[feature]) for feature in features]), axis=1)"
      ],
      "metadata": {
        "id": "7z0O8dM3qtGf"
      },
      "execution_count": 3,
      "outputs": []
    },
    {
      "cell_type": "code",
      "source": [
        "# Create a TF-IDF matrix based on combined features\n",
        "tfidf_vectorizer = TfidfVectorizer(stop_words='english')\n",
        "tfidf_matrix = tfidf_vectorizer.fit_transform(df['combined_features'])"
      ],
      "metadata": {
        "id": "w7I747DJqwvC"
      },
      "execution_count": 4,
      "outputs": []
    },
    {
      "cell_type": "code",
      "source": [
        "# Calculate cosine similarity between movies based on features\n",
        "movie_similarity = cosine_similarity(tfidf_matrix)\n",
        "\n",
        "# Create a DataFrame with movie similarity values\n",
        "movie_similarity_df = pd.DataFrame(movie_similarity, index=df['Movie_ID'], columns=df['Movie_ID'])"
      ],
      "metadata": {
        "id": "KQTmAlW6q22z"
      },
      "execution_count": 5,
      "outputs": []
    },
    {
      "cell_type": "code",
      "source": [
        "# Function to get movie recommendations using content-based filtering\n",
        "def get_content_based_recommendations(movie_id, num_recommendations=5):\n",
        "    similar_movies = movie_similarity_df[movie_id].sort_values(ascending=False)[1:num_recommendations+1]\n",
        "    recommended_movies = df[df['Movie_ID'].isin(similar_movies.index)][['Movie_ID', 'Movie_Title']]\n",
        "    return recommended_movies\n"
      ],
      "metadata": {
        "id": "6QjsLxADq6lX"
      },
      "execution_count": 6,
      "outputs": []
    },
    {
      "cell_type": "code",
      "source": [
        "# Example usage of content-based filtering recommendation system\n",
        "movie_id = 1\n",
        "content_based_recommendations = get_content_based_recommendations(movie_id)\n",
        "print(f\"Content-Based Filtering Recommendations for Movie {movie_id}:\")\n",
        "print(content_based_recommendations)"
      ],
      "metadata": {
        "colab": {
          "base_uri": "https://localhost:8080/"
        },
        "id": "-qhSWGk2q9yW",
        "outputId": "f3c682db-a953-4b55-994b-30d69269dcf1"
      },
      "execution_count": 7,
      "outputs": [
        {
          "output_type": "stream",
          "name": "stdout",
          "text": [
            "Content-Based Filtering Recommendations for Movie 1:\n",
            "      Movie_ID                    Movie_Title\n",
            "65          66  Star Trek: The Motion Picture\n",
            "393        394                  Cool Runnings\n",
            "1049      1050               Punch-Drunk Love\n",
            "1831      1832                       I Am Sam\n",
            "3383      3385                    Crazy Stone\n"
          ]
        }
      ]
    }
  ]
}
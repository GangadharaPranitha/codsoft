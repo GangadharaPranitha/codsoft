{
  "nbformat": 4,
  "nbformat_minor": 0,
  "metadata": {
    "colab": {
      "provenance": [],
      "authorship_tag": "ABX9TyMJiQrF9l6Ip9UOo30CSCbi",
      "include_colab_link": true
    },
    "kernelspec": {
      "name": "python3",
      "display_name": "Python 3"
    },
    "language_info": {
      "name": "python"
    }
  },
  "cells": [
    {
      "cell_type": "markdown",
      "metadata": {
        "id": "view-in-github",
        "colab_type": "text"
      },
      "source": [
        "<a href=\"https://colab.research.google.com/github/GangadharaPranitha/codsoft/blob/main/task%201.ipynb\" target=\"_parent\"><img src=\"https://colab.research.google.com/assets/colab-badge.svg\" alt=\"Open In Colab\"/></a>"
      ]
    },
    {
      "cell_type": "code",
      "execution_count": 2,
      "metadata": {
        "colab": {
          "base_uri": "https://localhost:8080/"
        },
        "id": "ZjKXyAafwvzO",
        "outputId": "c0c94bef-8a20-4c83-e978-e1cc6261b19c"
      },
      "outputs": [
        {
          "output_type": "stream",
          "name": "stdout",
          "text": [
            "Chatbot: Hi! I'm a simple chatbot, I'm here to assist you!\n",
            "Me: hii\n",
            "Chatbot: Hi there! I'm a chatbot here to assist you.\n",
            "Me: where are you from\n",
            "Chatbot: I'm from the digital world, always ready to chat!\n",
            "Me: what is the time now\n",
            "Chatbot: Wed Aug 21 16:28:10 2024\n",
            "Me: what did you eat today\n",
            "Chatbot: I don't eat, but I can help you find delicious recipes and food-related information.\n",
            "Me: bye\n",
            "Chatbot: Goodbye! Have a great day!\n"
          ]
        }
      ],
      "source": [
        "import time\n",
        "now=time.ctime()\n",
        "\n",
        "def chatbot(user_input):\n",
        "    user_input = user_input.lower()\n",
        "\n",
        "    if \"hi\" in user_input or \"hello\" in user_input:\n",
        "        return \"Hi there! I'm a chatbot here to assist you.\"\n",
        "    elif \"what is your name\" in user_input:\n",
        "        return \"I'm just a chatbot, so I don't have a name, but you can call me anything.\"\n",
        "    elif \"where are you from\" in user_input:\n",
        "        return \"I'm from the digital world, always ready to chat!\"\n",
        "    elif \"how are you\" in user_input:\n",
        "        return \"I'm fine .\"\n",
        "    elif \"do you have any hobbies\" in user_input or \"interests\" in user_input:\n",
        "        return \"I'm always busy helping users, so my hobby is chatting with people like you!\"\n",
        "    elif \"what did you eat today\" in user_input or \"what do you like to eat\" in user_input:\n",
        "        return \"I don't eat, but I can help you find delicious recipes and food-related information.\"\n",
        "    elif \"favorite color\" in user_input:\n",
        "        return \"I'm a chatbot, so I don't have personal preferences for colors.\"\n",
        "    elif \" do you enjoy listening to music\" in user_input:\n",
        "        return \"I can't listen to music, but I'm here to chat about it!\"\n",
        "    elif\"tell me a joke\" in user_input or \"another joke\" in user_input:\n",
        "        return \"Why did the scarecrow win an award? Because he was outstanding in his field!\"\n",
        "    elif \"tell me an interesting fact\" in user_input:\n",
        "        return \"I don't have an interesting fact right now.\"\n",
        "    elif \"weather in\" in user_input:\n",
        "        return \"I'm sorry, I don't have real-time weather data.\"\n",
        "    elif \"latest news\" in user_input:\n",
        "        return \"I'm sorry, I don't have real-time news updates.\"\n",
        "    elif \"translate\" in user_input:\n",
        "        return \"I don't support real-time language translation.\"\n",
        "    elif \"what is the time now\" in user_input:\n",
        "        return now\n",
        "\n",
        "    elif \"bye\" in user_input:\n",
        "        return \"Goodbye! Take care and have a great day!\"\n",
        "    else:\n",
        "        return \"I'm sorry, I didn't understand that. Can you please rephrase your sentence?\"\n",
        "\n",
        "print(\"Chatbot: Hi! I'm a simple chatbot, I'm here to assist you!\")\n",
        "\n",
        "while True:\n",
        "    user_input = input(\"Me: \")\n",
        "    if user_input.lower() == 'bye':\n",
        "        print(\"Chatbot: Goodbye! Have a great day!\")\n",
        "        break\n",
        "\n",
        "    response = chatbot(user_input)\n",
        "    print(\"Chatbot:\", response)"
      ]
    }
  ]
}
{
  "nbformat": 4,
  "nbformat_minor": 0,
  "metadata": {
    "colab": {
      "provenance": [],
      "authorship_tag": "ABX9TyMDknMlwGiUpl1EYp5+qqBW",
      "include_colab_link": true
    },
    "kernelspec": {
      "name": "python3",
      "display_name": "Python 3"
    },
    "language_info": {
      "name": "python"
    }
  },
  "cells": [
    {
      "cell_type": "markdown",
      "metadata": {
        "id": "view-in-github",
        "colab_type": "text"
      },
      "source": [
        "<a href=\"https://colab.research.google.com/github/GangadharaPranitha/codsoft/blob/main/Ai%20task1.ipynb\" target=\"_parent\"><img src=\"https://colab.research.google.com/assets/colab-badge.svg\" alt=\"Open In Colab\"/></a>"
      ]
    },
    {
      "cell_type": "code",
      "execution_count": null,
      "metadata": {
        "id": "OOToaNv_PdFm"
      },
      "outputs": [],
      "source": [
        "# Create BankBot Class:\n",
        "class BankBot:\n",
        "    def __init__(self):\n",
        "        self.balance = 1000  # Initial account balance\n",
        "\n",
        "    def check_balance(self):\n",
        "        return f\"Your account balance is ${self.balance}\"\n",
        "\n",
        "    def deposit(self, amount):\n",
        "        if amount > 0:\n",
        "            self.balance += amount\n",
        "            return f\"Deposited ${amount}. Your new balance is ${self.balance}\"\n",
        "        else:\n",
        "            return \"Invalid amount for deposit.\"\n",
        "\n",
        "    def withdraw(self, amount):\n",
        "        if amount > 0 and amount <= self.balance:\n",
        "            self.balance -= amount\n",
        "            return f\"Withdrew ${amount}. Your new balance is ${self.balance}\"\n",
        "        elif amount <= 0:\n",
        "            return \"Invalid amount for withdrawal.\"\n",
        "        else:\n",
        "            return \"Insufficient funds for withdrawal.\""
      ]
    },
    {
      "cell_type": "code",
      "source": [
        "# Create an instance of the BankBot:\n",
        "bank_bot = BankBot()"
      ],
      "metadata": {
        "id": "YC8uVVEIPqJ3"
      },
      "execution_count": null,
      "outputs": []
    },
    {
      "cell_type": "code",
      "source": [
        "# Main conversation loop:\n",
        "print(\"BankBot: Welcome to the BankBot! How can I assist you today?\")\n",
        "\n",
        "while True:\n",
        "    print(\"\\nOptions:\")\n",
        "    print(\"1. Check Balance\")\n",
        "    print(\"2. Deposit Funds\")\n",
        "    print(\"3. Withdraw Funds\")\n",
        "    print(\"4. Quit\")\n",
        "\n",
        "    choice = input(\"Enter the number of your choice: \")\n",
        "\n",
        "    if choice == \"1\":\n",
        "        print(\"BankBot:\", bank_bot.check_balance())\n",
        "    elif choice == \"2\":\n",
        "        try:\n",
        "            amount = float(input(\"Enter the deposit amount: $\"))\n",
        "            print(\"BankBot:\", bank_bot.deposit(amount))\n",
        "        except ValueError:\n",
        "            print(\"BankBot: Please specify a valid deposit amount.\")\n",
        "    elif choice == \"3\":\n",
        "        try:\n",
        "            amount = float(input(\"Enter the withdrawal amount: $\"))\n",
        "            print(\"BankBot:\", bank_bot.withdraw(amount))\n",
        "        except ValueError:\n",
        "            print(\"BankBot: Please specify a valid withdrawal amount.\")\n",
        "    elif choice == \"4\":\n",
        "        print(\"BankBot: Thank you for using BankBot. Goodbye!\")\n",
        "        break\n",
        "    else:\n",
        "        print(\"BankBot: Invalid choice. Please select a valid option.\")"
      ],
      "metadata": {
        "colab": {
          "base_uri": "https://localhost:8080/"
        },
        "id": "0ys_fEv7PxkN",
        "outputId": "7d18117d-aae5-41de-d786-2938ce93d4f1"
      },
      "execution_count": null,
      "outputs": [
        {
          "output_type": "stream",
          "name": "stdout",
          "text": [
            "BankBot: Welcome to the BankBot! How can I assist you today?\n",
            "\n",
            "Options:\n",
            "1. Check Balance\n",
            "2. Deposit Funds\n",
            "3. Withdraw Funds\n",
            "4. Quit\n",
            "Enter the number of your choice: 1\n",
            "BankBot: Your account balance is $1000\n",
            "\n",
            "Options:\n",
            "1. Check Balance\n",
            "2. Deposit Funds\n",
            "3. Withdraw Funds\n",
            "4. Quit\n",
            "Enter the number of your choice: 2\n",
            "Enter the deposit amount: $3000\n",
            "BankBot: Deposited $3000.0. Your new balance is $4000.0\n",
            "\n",
            "Options:\n",
            "1. Check Balance\n",
            "2. Deposit Funds\n",
            "3. Withdraw Funds\n",
            "4. Quit\n",
            "Enter the number of your choice: 1\n",
            "BankBot: Your account balance is $4000.0\n",
            "\n",
            "Options:\n",
            "1. Check Balance\n",
            "2. Deposit Funds\n",
            "3. Withdraw Funds\n",
            "4. Quit\n",
            "Enter the number of your choice: 3\n",
            "Enter the withdrawal amount: $477\n",
            "BankBot: Withdrew $477.0. Your new balance is $3523.0\n",
            "\n",
            "Options:\n",
            "1. Check Balance\n",
            "2. Deposit Funds\n",
            "3. Withdraw Funds\n",
            "4. Quit\n",
            "Enter the number of your choice: 1\n",
            "BankBot: Your account balance is $3523.0\n",
            "\n",
            "Options:\n",
            "1. Check Balance\n",
            "2. Deposit Funds\n",
            "3. Withdraw Funds\n",
            "4. Quit\n",
            "Enter the number of your choice: 4\n",
            "BankBot: Thank you for using BankBot. Goodbye!\n"
          ]
        }
      ]
    }
  ]
}